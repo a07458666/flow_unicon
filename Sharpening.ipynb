{
 "cells": [
  {
   "cell_type": "code",
   "execution_count": 93,
   "id": "18a314bd-885f-45bb-bf26-0f673f088c1f",
   "metadata": {},
   "outputs": [],
   "source": [
    "from __future__ import print_function\n",
    "import sys\n",
    "from syslog import LOG_MAIL\n",
    "\n",
    "import os\n",
    "from urllib3 import Retry\n",
    "import torch\n",
    "import torch.nn as nn\n",
    "import torch.optim as optim\n",
    "import torch.nn.functional as F\n",
    "import torch.backends.cudnn as cudnn\n",
    "import torchvision\n",
    "import random\n",
    "import argparse\n",
    "import numpy as np\n",
    "\n",
    "from math import log2\n",
    "from tqdm import tqdm\n",
    "\n",
    "import numpy as np\n",
    "import matplotlib.pyplot as plt\n",
    "\n",
    "from IPython.display import clear_output\n",
    "import ipywidgets as widgets\n",
    "from ipywidgets import interact, interact_manual, FloatSlider, IntSlider\n",
    "from IPython.display import Image\n",
    "import torch\n",
    "%matplotlib inline"
   ]
  },
  {
   "cell_type": "markdown",
   "id": "02a7da24-a687-429b-a96b-04fb4a551b7c",
   "metadata": {},
   "source": [
    "# UNICON Sharpening"
   ]
  },
  {
   "cell_type": "code",
   "execution_count": 94,
   "id": "d9fc7f07-7ef9-4c92-8481-a2fef278bf64",
   "metadata": {},
   "outputs": [],
   "source": [
    "def sharpening(labels, T):\n",
    "    labels_sp = labels**(1/T)\n",
    "    return labels_sp / labels_sp.sum(dim=0, keepdim=True)"
   ]
  },
  {
   "cell_type": "markdown",
   "id": "6d5e8b07-29b3-4e2d-971a-380bee0caffc",
   "metadata": {},
   "source": [
    "# DINO Sharpening"
   ]
  },
  {
   "cell_type": "code",
   "execution_count": 95,
   "id": "267729d0-6254-442a-82bf-0d9d0375c0b8",
   "metadata": {},
   "outputs": [],
   "source": [
    "def sharpening_DINO(labels, T):\n",
    "    labels_sp = labels / T\n",
    "    m = nn.Softmax(dim=0)\n",
    "    return m(labels_sp)"
   ]
  },
  {
   "cell_type": "markdown",
   "id": "cfe1b2ff-6cf2-4c39-8521-06134b10756d",
   "metadata": {},
   "source": [
    "# Visualization Sharpening"
   ]
  },
  {
   "cell_type": "code",
   "execution_count": 98,
   "id": "d68b1add-957d-4679-a0a8-126927db9948",
   "metadata": {},
   "outputs": [
    {
     "data": {
      "application/vnd.jupyter.widget-view+json": {
       "model_id": "db90e2996cc84328b3b6466d9e75b0af",
       "version_major": 2,
       "version_minor": 0
      },
      "text/plain": [
       "interactive(children=(FloatSlider(value=0.5, description='UNICON_T', max=5.0, step=0.01), FloatSlider(value=0.…"
      ]
     },
     "metadata": {},
     "output_type": "display_data"
    }
   ],
   "source": [
    "@interact\n",
    "def visDensity(\n",
    "    UNICON_T = FloatSlider(min=0., max=5., value=0.5, step=0.01),\n",
    "    DINO_T = FloatSlider(min=0., max=5., value=0.06, step=0.01),\n",
    "    inputX_0 = FloatSlider(min=0., max=1., value=0.4, step=0.01),\n",
    "    inputX_1 = FloatSlider(min=0., max=1., value=0.2, step=0.01),\n",
    "    inputX_2 = FloatSlider(min=0., max=1., value=0.05, step=0.01),\n",
    "    inputX_3 = FloatSlider(min=0., max=1., value=0.05, step=0.01),\n",
    "    inputX_4 = FloatSlider(min=0., max=1., value=0.05, step=0.01),\n",
    "    inputX_5 = FloatSlider(min=0., max=1., value=0.05, step=0.01),\n",
    "    inputX_6 = FloatSlider(min=0., max=1., value=0.05, step=0.01),\n",
    "    inputX_7 = FloatSlider(min=0., max=1., value=0.05, step=0.01),\n",
    "    inputX_8 = FloatSlider(min=0., max=1., value=0.05, step=0.01),\n",
    "    inputX_9 = FloatSlider(min=0., max=1., value=0.05, step=0.01),\n",
    "): \n",
    "    num_class = 10\n",
    "    inputX = [inputX_0, inputX_1, inputX_2,inputX_3,inputX_4,inputX_5,inputX_6,inputX_7,inputX_8,inputX_9]\n",
    "    inputX = torch.FloatTensor(inputX)\n",
    "    inputX_sp_UNICON = sharpening(inputX, UNICON_T)\n",
    "    inputX_sp_DINO = sharpening_DINO(inputX, DINO_T)\n",
    "    plt.figure(figsize=(24,6))\n",
    "    plt.tight_layout()\n",
    "    plt.subplot(131)\n",
    "    plt.ylim(0,1)\n",
    "    bars = plt.bar(range(0, 10), inputX.numpy())\n",
    "    plt.bar_label(bars, fmt='%.2f')\n",
    "    plt.title(\"Origin\")\n",
    "    plt.xticks(range(0, 10))\n",
    "    plt.grid(True)\n",
    "    plt.subplot(132)\n",
    "    plt.ylim(0,1)\n",
    "    bars = plt.bar(range(0, 10), inputX_sp_UNICON.numpy())\n",
    "    plt.bar_label(bars, fmt='%.2f')\n",
    "    plt.grid(True)\n",
    "    plt.title(\"UNICON : \" + str(UNICON_T))\n",
    "    plt.xticks(range(0, 10))\n",
    "    plt.subplot(133)\n",
    "    plt.ylim(0,1)\n",
    "    bars = plt.bar(range(0, 10), inputX_sp_DINO.numpy())\n",
    "    plt.bar_label(bars, fmt='%.2f')\n",
    "    plt.title(\"DINO T: \" + str(DINO_T))\n",
    "    plt.xticks(range(0, 10))\n",
    "    plt.grid(True)\n",
    "    plt.show()\n",
    "    return "
   ]
  },
  {
   "cell_type": "markdown",
   "id": "be5f5d76-a55d-4d6f-8f42-983260fa3fc1",
   "metadata": {},
   "source": [
    "備忘錄：\n",
    "1. 預設參數\n",
    "2. 相同強度 Tps 0.1\n",
    "3. asym的情況 0.55 0.45 \n",
    "4. "
   ]
  },
  {
   "cell_type": "code",
   "execution_count": 83,
   "id": "96bf62bc-81fd-4d16-88e5-3d5227140792",
   "metadata": {},
   "outputs": [],
   "source": [
    "a = torch.tensor([[ 2.5849e-02,  1.3727e-01, -2.9217e-03, -5.0169e-02,  4.0312e-02,\n",
    "          9.4924e-02, -1.7414e-02,  1.1302e-01,  3.8955e-02, -1.1567e-01,\n",
    "         -4.2032e-02,  7.0781e-03, -7.0436e-03, -4.3275e-02, -6.1347e-02,\n",
    "         -1.4306e-02, -5.9328e-02, -2.7418e-02, -1.0878e-01, -9.2970e-02,\n",
    "         -2.3346e-02,  1.2615e-01, -4.5262e-02, -1.8080e-03, -4.1264e-02,\n",
    "          5.5995e-02, -9.7353e-02,  1.0617e-02,  7.0020e-02,  9.7239e-02,\n",
    "         -3.6515e-02,  5.9807e-04,  1.3264e-01,  5.0183e-02,  1.1850e-01,\n",
    "          6.3413e-02, -2.6445e-02,  1.7152e-02, -8.6439e-02, -5.8670e-02,\n",
    "          4.3982e-02, -1.3629e-01, -4.0352e-02,  1.3771e-01,  1.1423e-04,\n",
    "         -9.1020e-02, -1.2737e-01,  2.9980e-02, -1.2439e-01,  2.8136e-02,\n",
    "          3.7607e-02, -4.0858e-02,  6.5722e-02, -8.3969e-02, -2.7378e-02,\n",
    "          1.3255e-01, -7.9063e-02,  5.4204e-02, -2.0350e-02,  1.2682e-02,\n",
    "          1.2240e-01,  4.2547e-02, -1.6056e-02,  1.2655e-01,  3.1946e-02,\n",
    "          1.0046e-01,  4.6876e-03, -3.8074e-02, -1.0052e-01, -9.1502e-02,\n",
    "          5.9118e-02, -4.8431e-02, -1.6149e-01, -3.0141e-02,  1.8592e-01,\n",
    "          4.0732e-02, -1.9329e-01, -6.4903e-02, -2.9889e-03, -1.1932e-01,\n",
    "         -1.0286e-01, -1.2362e-02, -1.7452e-01, -7.5198e-02, -1.3520e-02,\n",
    "          1.1519e-01, -1.0938e-01, -3.7216e-02, -8.1227e-02,  1.0517e-01,\n",
    "         -1.9429e-01, -1.5507e-01,  1.0705e-01, -1.6433e-02, -7.6020e-02,\n",
    "          9.6546e-02, -6.9244e-02, -6.9090e-02, -1.1710e-01,  1.1706e-01,\n",
    "         -1.9317e-01, -7.7380e-02,  4.9766e-03, -6.3141e-02,  5.2052e-02,\n",
    "          1.3147e-02, -7.2976e-02, -2.6641e-02, -5.5907e-02, -9.4763e-02,\n",
    "         -5.5690e-03,  2.9907e-02, -5.4849e-02, -1.2614e-01,  1.2306e-02,\n",
    "          2.2610e-01,  1.9708e-02,  7.9473e-02,  2.9587e-02, -1.4246e-02,\n",
    "         -9.6205e-02, -2.8490e-01, -9.1136e-02, -3.3081e-02, -1.3401e-01,\n",
    "         -5.0882e-02, -3.1863e-02, -9.1243e-02]])\n",
    "\n",
    "\n",
    "b = torch.tensor([[ 6.4785e-02,  1.2803e-01, -3.6303e-02, -7.7526e-02,  5.5587e-02,                                      \n",
    "          1.0225e-01,  9.0887e-02,  2.4126e-03,  4.9468e-02, -1.1827e-01,    \n",
    "          5.2309e-02, -5.0036e-02,  1.5834e-02,  1.5710e-02, -2.4707e-01,                                                                                                                                                     \n",
    "         -4.3604e-02, -8.6595e-02, -4.1258e-02, -7.4943e-02,  2.3530e-02,\n",
    "         -6.2038e-02, -1.0780e-01, -5.5874e-02, -1.5814e-01, -1.2427e-01,                                                                                                                                                     \n",
    "          4.4659e-02,  1.3200e-02,  4.2071e-02,  8.1512e-02, -6.1901e-02,  \n",
    "          7.5295e-02, -5.0164e-02, -9.2014e-02, -1.3430e-01,  6.6311e-02,                                 \n",
    "          8.0811e-02, -1.2673e-01,  5.7392e-02, -3.2054e-02, -1.3951e-01,             \n",
    "          1.0002e-01,  1.7893e-02,  1.2977e-01,  8.8536e-02,  6.5056e-02,       \n",
    "          8.0566e-03,  9.0353e-02, -1.1336e-01, -1.0186e-01,  1.0732e-01,    \n",
    "          1.7694e-01, -7.9595e-02, -4.0497e-02, -4.3559e-02,  6.4190e-02,\n",
    "          1.3910e-01, -1.1184e-01,  2.8591e-02,  1.6668e-01, -1.0529e-02,                                \n",
    "         -1.7412e-02,  1.0820e-01, -6.1826e-02,  1.9421e-01, -1.1821e-01,\n",
    "          4.7045e-02, -1.2279e-01,  6.8970e-02, -9.7729e-02,  3.6076e-02,     \n",
    "          2.7115e-04, -1.5079e-03, -1.1539e-01, -1.4463e-01,  1.7668e-01,  \n",
    "          9.5951e-02, -1.1452e-01,  7.0626e-02, -3.2202e-02,  6.2415e-03,                                \n",
    "         -6.2763e-02,  1.7882e-02,  1.2298e-01,  2.4615e-02,  2.2870e-02,\n",
    "          2.8605e-02,  3.1279e-02,  2.9901e-03, -5.9874e-02,  7.9426e-02,      \n",
    "         -6.2542e-02, -6.5372e-02,  3.9405e-02, -2.1939e-01,  7.0284e-02,\n",
    "          4.8612e-02, -7.4576e-02,  1.2524e-02, -2.2450e-02,  3.0984e-02,                                \n",
    "         -1.8122e-01,  8.1006e-02,  7.2468e-02, -8.8894e-02,  3.8744e-02,\n",
    "         -4.2511e-02,  4.2579e-02,  8.0874e-03,  9.8572e-02, -8.5389e-02,                        \n",
    "         -1.3015e-01, -3.9547e-02,  7.7807e-02,  7.8035e-02, -4.0452e-02,                             \n",
    "         -1.7186e-02,  1.0481e-02,  1.1151e-01,  7.2522e-02,  1.4350e-01,                      \n",
    "         -1.4862e-01,  2.0109e-02, -1.5078e-01,  8.7314e-02, -3.0347e-02,\n",
    "          3.5852e-02, -1.1390e-03, -5.6330e-02]])"
   ]
  },
  {
   "cell_type": "code",
   "execution_count": 70,
   "id": "5620bebe-a84f-4dd5-819b-8d377707668f",
   "metadata": {},
   "outputs": [],
   "source": [
    "def entropy(p):\n",
    "    print(p)\n",
    "    log_p = (p + 1e-10).log2()\n",
    "    print(log_p)\n",
    "    return -p.mul((p + 1e-10).log2()).sum(dim=1)"
   ]
  },
  {
   "cell_type": "code",
   "execution_count": 77,
   "id": "b1aee031-49df-4030-a247-349ce3e20a97",
   "metadata": {},
   "outputs": [
    {
     "data": {
      "text/plain": [
       "tensor([[ 1.3191e-02,  7.6129e-02, -1.4574e-03, -2.4081e-02,  2.0804e-02,\n",
       "          5.1051e-02, -8.5860e-03,  6.1595e-02,  2.0083e-02, -5.2509e-02,\n",
       "         -2.0311e-02,  3.5590e-03, -3.5020e-03, -2.0891e-02, -2.9173e-02,\n",
       "         -7.0714e-03, -2.8261e-02, -1.3409e-02, -4.9679e-02, -4.3042e-02,\n",
       "         -1.1456e-02,  6.9407e-02, -2.1814e-02, -9.0270e-04, -1.9953e-02,\n",
       "          2.9248e-02, -4.4901e-02,  5.3535e-03,  3.6964e-02,  5.2386e-02,\n",
       "         -1.7726e-02,  2.9918e-04,  7.3318e-02,  2.6096e-02,  6.4839e-02,\n",
       "          3.3310e-02, -1.2944e-02,  8.6934e-03, -4.0242e-02, -2.7963e-02,\n",
       "          2.2762e-02, -6.0758e-02, -1.9527e-02,  7.6397e-02,  5.7120e-05,\n",
       "         -4.2209e-02, -5.7230e-02,  1.5349e-02, -5.6038e-02,  1.4384e-02,\n",
       "          1.9368e-02, -1.9763e-02,  3.4583e-02, -3.9175e-02, -1.3390e-02,\n",
       "          7.3264e-02, -3.7040e-02,  2.8274e-02, -1.0010e-02,  6.4052e-03,\n",
       "          6.7162e-02,  2.1995e-02, -7.9252e-03,  6.9647e-02,  1.6380e-02,\n",
       "          5.4249e-02,  2.3526e-03, -1.8459e-02, -4.6236e-02, -4.2415e-02,\n",
       "          3.0952e-02, -2.3280e-02, -7.0386e-02, -1.4708e-02,  1.0667e-01,\n",
       "          2.1028e-02, -8.1832e-02, -3.0772e-02, -1.4909e-03, -5.3994e-02,\n",
       "         -4.7217e-02, -6.1200e-03, -7.5171e-02, -3.5345e-02, -6.6871e-03,\n",
       "          6.2877e-02, -4.9927e-02, -1.8056e-02, -3.7984e-02,  5.6989e-02,\n",
       "         -8.2180e-02, -6.7980e-02,  5.8088e-02, -8.1088e-03, -3.5707e-02,\n",
       "          5.1986e-02, -3.2711e-02, -3.2642e-02, -5.3092e-02,  6.3984e-02,\n",
       "         -8.1791e-02, -3.6304e-02,  2.4982e-03, -2.9981e-02,  2.7106e-02,\n",
       "          6.6425e-03, -3.4365e-02, -1.3037e-02, -2.6707e-02, -4.3804e-02,\n",
       "         -2.7721e-03,  1.5310e-02, -2.6225e-02, -5.6739e-02,  6.2134e-03,\n",
       "          1.3327e-01,  1.0009e-02,  4.2254e-02,  1.5143e-02, -7.0420e-03,\n",
       "         -4.4416e-02, -1.1050e-01, -4.2259e-02, -1.6104e-02, -5.9862e-02,\n",
       "         -2.4409e-02, -1.5527e-02, -4.2305e-02]])"
      ]
     },
     "execution_count": 78,
     "metadata": {},
     "output_type": "execute_result"
    }
   ],
   "source": [
    "m = nn.GELU()\n",
    "a1 = m(a)\n",
    "a1\n",
    "# a2 = sharpening_DINO(a, 0.06)\n",
    "# a2\n",
    "# entropy(a2)"
   ]
  },
  {
   "cell_type": "code",
   "execution_count": 73,
   "id": "bc637b80-c603-4294-a0d3-7e5f76de4f21",
   "metadata": {},
   "outputs": [
    {
     "data": {
      "text/plain": [
       "tensor([ 0.2810, -0.1211])"
      ]
     },
     "execution_count": 73,
     "metadata": {},
     "output_type": "execute_result"
    }
   ],
   "source": [
    "m = nn.GELU()\n",
    "i = torch.randn(2)\n",
    "m(i)"
   ]
  },
  {
   "cell_type": "code",
   "execution_count": 91,
   "id": "f3124d7e-f3be-4f59-bf2c-bb5c18f4459b",
   "metadata": {},
   "outputs": [],
   "source": [
    "def kl_divergence(p, q):\n",
    "    print((p+1e-10)/(q+1e-10))\n",
    "    return (p * ((p+1e-10) / (q+1e-10)).log()).sum(dim=1)"
   ]
  },
  {
   "cell_type": "code",
   "execution_count": 92,
   "id": "e2a7b31f-e7e2-4ebb-bbc6-e63eb6bfecdd",
   "metadata": {},
   "outputs": [
    {
     "name": "stdout",
     "output_type": "stream",
     "text": [
      "tensor([[ 3.9900e-01,  1.0722e+00,  8.0481e-02,  6.4712e-01,  7.2521e-01,\n",
      "          9.2835e-01, -1.9160e-01,  4.6846e+01,  7.8748e-01,  9.7802e-01,\n",
      "         -8.0353e-01, -1.4146e-01, -4.4484e-01, -2.7546e+00,  2.4830e-01,\n",
      "          3.2809e-01,  6.8512e-01,  6.6455e-01,  1.4515e+00, -3.9511e+00,\n",
      "          3.7632e-01, -1.1702e+00,  8.1007e-01,  1.1433e-02,  3.3205e-01,\n",
      "          1.2538e+00, -7.3752e+00,  2.5236e-01,  8.5901e-01, -1.5709e+00,\n",
      "         -4.8496e-01, -1.1922e-02, -1.4415e+00, -3.7366e-01,  1.7870e+00,\n",
      "          7.8471e-01,  2.0867e-01,  2.9886e-01,  2.6967e+00,  4.2054e-01,\n",
      "          4.3973e-01, -7.6169e+00, -3.1095e-01,  1.5554e+00,  1.7559e-03,\n",
      "         -1.1298e+01, -1.4097e+00, -2.6447e-01,  1.2212e+00,  2.6217e-01,\n",
      "          2.1254e-01,  5.1332e-01, -1.6229e+00,  1.9277e+00, -4.2652e-01,\n",
      "          9.5291e-01,  7.0693e-01,  1.8958e+00, -1.2209e-01, -1.2045e+00,\n",
      "         -7.0296e+00,  3.9323e-01,  2.5970e-01,  6.5161e-01, -2.7025e-01,\n",
      "          2.1354e+00, -3.8176e-02, -5.5204e-01,  1.0286e+00, -2.5364e+00,\n",
      "          2.1803e+02,  3.2118e+01,  1.3995e+00,  2.0840e-01,  1.0523e+00,\n",
      "          4.2451e-01,  1.6878e+00, -9.1897e-01,  9.2817e-02, -1.9117e+01,\n",
      "          1.6389e+00, -6.9131e-01, -1.4191e+00, -3.0550e+00, -5.9117e-01,\n",
      "          4.0269e+00, -3.4969e+00, -1.2446e+01,  1.3566e+00,  1.3241e+00,\n",
      "          3.1066e+00,  2.3721e+00,  2.7167e+00,  7.4903e-02, -1.0816e+00,\n",
      "          1.9861e+00,  9.2850e-01, -5.5166e+00,  5.2160e+00,  3.7781e+00,\n",
      "          1.0659e+00, -9.5524e-01,  6.8673e-02,  7.1030e-01,  1.3435e+00,\n",
      "         -3.0926e-01, -1.7139e+00, -3.2941e+00, -5.6717e-01,  1.1098e+00,\n",
      "          4.2789e-02, -7.5624e-01, -7.0494e-01, -1.6165e+00, -3.0421e-01,\n",
      "         -1.3156e+01,  1.8804e+00,  7.1270e-01,  4.0797e-01, -9.9275e-02,\n",
      "          6.4732e-01, -1.4168e+01,  6.0443e-01, -3.7887e-01,  4.4159e+00,\n",
      "         -1.4192e+00,  2.7975e+01,  1.6198e+00]])\n"
     ]
    },
    {
     "data": {
      "text/plain": [
       "tensor([nan])"
      ]
     },
     "execution_count": 92,
     "metadata": {},
     "output_type": "execute_result"
    }
   ],
   "source": [
    "kl_divergence(a,b)"
   ]
  },
  {
   "cell_type": "code",
   "execution_count": null,
   "id": "9a3eb91e-dd39-40ed-818f-d62dbcd95caa",
   "metadata": {},
   "outputs": [],
   "source": []
  }
 ],
 "metadata": {
  "kernelspec": {
   "display_name": "Python 3",
   "language": "python",
   "name": "python3"
  },
  "language_info": {
   "codemirror_mode": {
    "name": "ipython",
    "version": 3
   },
   "file_extension": ".py",
   "mimetype": "text/x-python",
   "name": "python",
   "nbconvert_exporter": "python",
   "pygments_lexer": "ipython3",
   "version": "3.7.10"
  }
 },
 "nbformat": 4,
 "nbformat_minor": 5
}
