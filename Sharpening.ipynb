{
 "cells": [
  {
   "cell_type": "code",
   "execution_count": 1,
   "id": "18a314bd-885f-45bb-bf26-0f673f088c1f",
   "metadata": {},
   "outputs": [],
   "source": [
    "from __future__ import print_function\n",
    "import sys\n",
    "from syslog import LOG_MAIL\n",
    "\n",
    "import os\n",
    "from urllib3 import Retry\n",
    "import torch\n",
    "import torch.nn as nn\n",
    "import torch.optim as optim\n",
    "import torch.nn.functional as F\n",
    "import torch.backends.cudnn as cudnn\n",
    "import torchvision\n",
    "import random\n",
    "import argparse\n",
    "import numpy as np\n",
    "\n",
    "from math import log2\n",
    "from tqdm import tqdm\n",
    "\n",
    "import numpy as np\n",
    "import matplotlib.pyplot as plt\n",
    "\n",
    "from IPython.display import clear_output\n",
    "import ipywidgets as widgets\n",
    "from ipywidgets import interact, interact_manual, FloatSlider, IntSlider\n",
    "from IPython.display import Image\n",
    "import torch\n",
    "%matplotlib inline"
   ]
  },
  {
   "cell_type": "markdown",
   "id": "02a7da24-a687-429b-a96b-04fb4a551b7c",
   "metadata": {},
   "source": [
    "# UNICON Sharpening"
   ]
  },
  {
   "cell_type": "code",
   "execution_count": 2,
   "id": "d9fc7f07-7ef9-4c92-8481-a2fef278bf64",
   "metadata": {},
   "outputs": [],
   "source": [
    "def sharpening(labels, T):\n",
    "    labels_sp = labels**(1/T)\n",
    "    return labels_sp / labels_sp.sum(dim=0, keepdim=True)"
   ]
  },
  {
   "cell_type": "markdown",
   "id": "6d5e8b07-29b3-4e2d-971a-380bee0caffc",
   "metadata": {},
   "source": [
    "# DINO Sharpening"
   ]
  },
  {
   "cell_type": "code",
   "execution_count": 13,
   "id": "267729d0-6254-442a-82bf-0d9d0375c0b8",
   "metadata": {},
   "outputs": [],
   "source": [
    "def sharpening_DINO(labels, T):\n",
    "    labels_sp = labels / T\n",
    "    m = nn.Softmax(dim=0)\n",
    "    return m(labels_sp)"
   ]
  },
  {
   "cell_type": "markdown",
   "id": "cfe1b2ff-6cf2-4c39-8521-06134b10756d",
   "metadata": {},
   "source": [
    "# Visualization Sharpening"
   ]
  },
  {
   "cell_type": "code",
   "execution_count": 40,
   "id": "d68b1add-957d-4679-a0a8-126927db9948",
   "metadata": {},
   "outputs": [
    {
     "data": {
      "application/vnd.jupyter.widget-view+json": {
       "model_id": "b9b841b12ec34ad1bb422e0cb16e6cbd",
       "version_major": 2,
       "version_minor": 0
      },
      "text/plain": [
       "interactive(children=(FloatSlider(value=0.5, description='UNICON_T', max=5.0, step=0.01), FloatSlider(value=0.…"
      ]
     },
     "metadata": {},
     "output_type": "display_data"
    }
   ],
   "source": [
    "@interact\n",
    "def visDensity(\n",
    "    UNICON_T = FloatSlider(min=0., max=5., value=0.5, step=0.01),\n",
    "    DINO_T = FloatSlider(min=0., max=5., value=0.06, step=0.01),\n",
    "    inputX_0 = FloatSlider(min=0., max=1., value=0.4, step=0.01),\n",
    "    inputX_1 = FloatSlider(min=0., max=1., value=0.2, step=0.01),\n",
    "    inputX_2 = FloatSlider(min=0., max=1., value=0.05, step=0.01),\n",
    "    inputX_3 = FloatSlider(min=0., max=1., value=0.05, step=0.01),\n",
    "    inputX_4 = FloatSlider(min=0., max=1., value=0.05, step=0.01),\n",
    "    inputX_5 = FloatSlider(min=0., max=1., value=0.05, step=0.01),\n",
    "    inputX_6 = FloatSlider(min=0., max=1., value=0.05, step=0.01),\n",
    "    inputX_7 = FloatSlider(min=0., max=1., value=0.05, step=0.01),\n",
    "    inputX_8 = FloatSlider(min=0., max=1., value=0.05, step=0.01),\n",
    "    inputX_9 = FloatSlider(min=0., max=1., value=0.05, step=0.01),\n",
    "): \n",
    "    num_class = 10\n",
    "    inputX = [inputX_0, inputX_1, inputX_2,inputX_3,inputX_4,inputX_5,inputX_6,inputX_7,inputX_8,inputX_9]\n",
    "    inputX = torch.FloatTensor(inputX)\n",
    "    inputX_sp_UNICON = sharpening(inputX, UNICON_T)\n",
    "    inputX_sp_DINO = sharpening_DINO(inputX, DINO_T)\n",
    "    plt.figure(figsize=(24,6))\n",
    "    plt.tight_layout()\n",
    "    plt.subplot(131)\n",
    "    plt.ylim(0,1)\n",
    "    bars = plt.bar(range(0, 10), inputX.numpy())\n",
    "    plt.bar_label(bars, fmt='%.2f')\n",
    "    plt.title(\"Origin\")\n",
    "    plt.xticks(range(0, 10))\n",
    "    plt.grid(True)\n",
    "    plt.subplot(132)\n",
    "    plt.ylim(0,1)\n",
    "    bars = plt.bar(range(0, 10), inputX_sp_UNICON.numpy())\n",
    "    plt.bar_label(bars, fmt='%.2f')\n",
    "    plt.grid(True)\n",
    "    plt.title(\"UNICON : \" + str(UNICON_T))\n",
    "    plt.xticks(range(0, 10))\n",
    "    plt.subplot(133)\n",
    "    plt.ylim(0,1)\n",
    "    bars = plt.bar(range(0, 10), inputX_sp_DINO.numpy())\n",
    "    plt.bar_label(bars, fmt='%.2f')\n",
    "    plt.title(\"DINO T: \" + str(DINO_T))\n",
    "    plt.xticks(range(0, 10))\n",
    "    plt.grid(True)\n",
    "    plt.show()\n",
    "    return "
   ]
  },
  {
   "cell_type": "markdown",
   "id": "be5f5d76-a55d-4d6f-8f42-983260fa3fc1",
   "metadata": {},
   "source": [
    "備忘錄：\n",
    "1. 預設參數\n",
    "2. 相同強度 Tps 0.1\n",
    "3. asym的情況 0.55 0.45 \n",
    "4. "
   ]
  },
  {
   "cell_type": "code",
   "execution_count": null,
   "id": "96bf62bc-81fd-4d16-88e5-3d5227140792",
   "metadata": {},
   "outputs": [],
   "source": []
  }
 ],
 "metadata": {
  "kernelspec": {
   "display_name": "Python 3",
   "language": "python",
   "name": "python3"
  },
  "language_info": {
   "codemirror_mode": {
    "name": "ipython",
    "version": 3
   },
   "file_extension": ".py",
   "mimetype": "text/x-python",
   "name": "python",
   "nbconvert_exporter": "python",
   "pygments_lexer": "ipython3",
   "version": "3.7.10"
  }
 },
 "nbformat": 4,
 "nbformat_minor": 5
}
