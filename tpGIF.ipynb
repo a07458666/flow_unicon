{
 "cells": [
  {
   "cell_type": "code",
   "execution_count": 1,
   "id": "alone-savage",
   "metadata": {},
   "outputs": [
    {
     "name": "stderr",
     "output_type": "stream",
     "text": [
      "100%|██████████| 247/247 [00:02<00:00, 101.01it/s]\n"
     ]
    },
    {
     "name": "stdout",
     "output_type": "stream",
     "text": [
      "247\n"
     ]
    }
   ],
   "source": [
    "import os\n",
    "import imageio\n",
    "from tqdm import tqdm\n",
    "from natsort import natsorted\n",
    "\n",
    "path = './checkpoint/cifar10_sym_0.9_flow_fix_coslr_opt_flow_lr_u_3_wo_refine/JSD_distribution'\n",
    "output = os.path.join(path, 'jsd.gif')\n",
    "files_path = [x for x in natsorted(os.listdir(path))]\n",
    "images = []\n",
    "for p in tqdm(files_path):\n",
    "    if (p.lower().endswith(('.png', '.jpg', '.jpeg', '.tiff', '.bmp'))):\n",
    "        image_path = os.path.join(path, p)\n",
    "        try:\n",
    "            images.append(imageio.imread(image_path))\n",
    "        except:\n",
    "            print(image_path)\n",
    "print(len(images))\n",
    "imageio.mimsave(output, images)"
   ]
  },
  {
   "cell_type": "code",
   "execution_count": null,
   "id": "classical-upset",
   "metadata": {},
   "outputs": [],
   "source": []
  }
 ],
 "metadata": {
  "kernelspec": {
   "display_name": "Python 3",
   "language": "python",
   "name": "python3"
  },
  "language_info": {
   "codemirror_mode": {
    "name": "ipython",
    "version": 3
   },
   "file_extension": ".py",
   "mimetype": "text/x-python",
   "name": "python",
   "nbconvert_exporter": "python",
   "pygments_lexer": "ipython3",
   "version": "3.7.10"
  }
 },
 "nbformat": 4,
 "nbformat_minor": 5
}
