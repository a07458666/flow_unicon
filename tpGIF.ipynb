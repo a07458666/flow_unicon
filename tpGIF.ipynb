{
 "cells": [
  {
   "cell_type": "code",
   "execution_count": 23,
   "id": "alone-savage",
   "metadata": {},
   "outputs": [
    {
     "name": "stderr",
     "output_type": "stream",
     "text": [
      "100%|██████████| 343/343 [00:03<00:00, 113.96it/s]\n"
     ]
    },
    {
     "name": "stdout",
     "output_type": "stream",
     "text": [
      "341\n"
     ]
    }
   ],
   "source": [
    "import os\n",
    "import imageio\n",
    "from tqdm import tqdm\n",
    "from natsort import natsorted\n",
    "\n",
    "path = './checkpoint/cifar10_sym_0.9_flow_fix_coslr_opt_flow_lr_u_3_len_340_tau_2.5_norm/JSD_distribution'\n",
    "output = os.path.join(path, 'jsd.gif')\n",
    "files_path = [x for x in natsorted(os.listdir(path))]\n",
    "images = []\n",
    "for p in tqdm(files_path):\n",
    "    if (p.lower().endswith(('.png', '.jpg', '.jpeg', '.tiff', '.bmp'))):\n",
    "        image_path = os.path.join(path, p)\n",
    "        try:\n",
    "            images.append(imageio.imread(image_path))\n",
    "        except:\n",
    "            print(image_path)\n",
    "print(len(images))\n",
    "imageio.mimsave(output, images)"
   ]
  },
  {
   "cell_type": "code",
   "execution_count": 24,
   "id": "6f55fa5c-44e1-4a3c-bdd6-572ac0f44ae2",
   "metadata": {},
   "outputs": [],
   "source": [
    "import ipywidgets as widgets\n",
    "from ipywidgets import interact, interact_manual, IntSlider"
   ]
  },
  {
   "cell_type": "code",
   "execution_count": 31,
   "id": "a9ad65ed-1434-44ae-bdae-a5d341c47ebf",
   "metadata": {},
   "outputs": [
    {
     "data": {
      "application/vnd.jupyter.widget-view+json": {
       "model_id": "ad5cb0d68e574cd3b5caa85770b036c5",
       "version_major": 2,
       "version_minor": 0
      },
      "text/plain": [
       "interactive(children=(IntSlider(value=10, description='idx', max=350, min=10, step=2), Output()), _dom_classes…"
      ]
     },
     "metadata": {},
     "output_type": "display_data"
    }
   ],
   "source": [
    "import os\n",
    "from IPython.display import Image\n",
    "@interact\n",
    "def show_images(idx = IntSlider(min=10, max=350, step=2, value=10)):\n",
    "    display(Image(path + '/epoch' + str(idx) + '.png'))"
   ]
  }
 ],
 "metadata": {
  "kernelspec": {
   "display_name": "Python 3",
   "language": "python",
   "name": "python3"
  },
  "language_info": {
   "codemirror_mode": {
    "name": "ipython",
    "version": 3
   },
   "file_extension": ".py",
   "mimetype": "text/x-python",
   "name": "python",
   "nbconvert_exporter": "python",
   "pygments_lexer": "ipython3",
   "version": "3.7.10"
  }
 },
 "nbformat": 4,
 "nbformat_minor": 5
}
