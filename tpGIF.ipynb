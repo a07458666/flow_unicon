{
 "cells": [
  {
   "cell_type": "code",
   "execution_count": 39,
   "id": "alone-savage",
   "metadata": {},
   "outputs": [
    {
     "name": "stderr",
     "output_type": "stream",
     "text": [
      "100%|██████████| 115/115 [00:01<00:00, 111.05it/s]\n"
     ]
    },
    {
     "name": "stdout",
     "output_type": "stream",
     "text": [
      "115\n"
     ]
    }
   ],
   "source": [
    "import os\n",
    "import imageio\n",
    "from tqdm import tqdm\n",
    "from natsort import natsorted\n",
    "\n",
    "# path = './checkpoint/cifar10_sym_0.9_flow_fix_coslr_opt_flow_lr_u_3_len_340_tau_2.5_norm/JSD_distribution'\n",
    "# path = './checkpoint/cifar10_sym_0.9_flow_lambda_u_3_lin_u_340_tau_2.5_warmup_mixup/JSD_distribution'\n",
    "path = './checkpoint/cifar10_sym_0.9_flow_lambda_u_3_lin_u_340_tau_2.5_Tu_0.1/JSD_distribution'\n",
    "output = os.path.join(path, 'jsd.gif')\n",
    "files_path = [x for x in natsorted(os.listdir(path))]\n",
    "images = []\n",
    "for p in tqdm(files_path):\n",
    "    if (p.lower().endswith(('.png', '.jpg', '.jpeg', '.tiff', '.bmp'))):\n",
    "        image_path = os.path.join(path, p)\n",
    "        try:\n",
    "            images.append(imageio.imread(image_path))\n",
    "        except:\n",
    "            print(image_path)\n",
    "print(len(images))\n",
    "imageio.mimsave(output, images)"
   ]
  },
  {
   "cell_type": "code",
   "execution_count": 65,
   "id": "6f55fa5c-44e1-4a3c-bdd6-572ac0f44ae2",
   "metadata": {},
   "outputs": [],
   "source": [
    "import ipywidgets as widgets\n",
    "from ipywidgets import interact, interact_manual, IntSlider, Select, Layout"
   ]
  },
  {
   "cell_type": "code",
   "execution_count": 72,
   "id": "a9ad65ed-1434-44ae-bdae-a5d341c47ebf",
   "metadata": {},
   "outputs": [
    {
     "data": {
      "application/vnd.jupyter.widget-view+json": {
       "model_id": "631b4f985c1b46729f7e666bbc1f0288",
       "version_major": 2,
       "version_minor": 0
      },
      "text/plain": [
       "interactive(children=(Select(description='Path:', layout=Layout(height='300px', width='80%'), options=('cifar1…"
      ]
     },
     "metadata": {},
     "output_type": "display_data"
    }
   ],
   "source": [
    "import os\n",
    "from IPython.display import Image\n",
    "@interact\n",
    "def show_images(path = Select(options=os.listdir('./checkpoint/'), description='Path:',\n",
    "layout=Layout(width='80%', height='300px')), idx = IntSlider(min=10, max=350, step=1, value=10)):\n",
    "    file_path = './checkpoint/' + path + '/JSD_distribution/epoch' + str(idx) + '.png'\n",
    "    if os.path.exists(file_path):\n",
    "        display(Image(file_path))"
   ]
  },
  {
   "cell_type": "code",
   "execution_count": null,
   "id": "1cfdfc1a-f0ee-4fa1-be9f-fbb7aad67154",
   "metadata": {},
   "outputs": [],
   "source": []
  }
 ],
 "metadata": {
  "kernelspec": {
   "display_name": "Python 3",
   "language": "python",
   "name": "python3"
  },
  "language_info": {
   "codemirror_mode": {
    "name": "ipython",
    "version": 3
   },
   "file_extension": ".py",
   "mimetype": "text/x-python",
   "name": "python",
   "nbconvert_exporter": "python",
   "pygments_lexer": "ipython3",
   "version": "3.7.10"
  }
 },
 "nbformat": 4,
 "nbformat_minor": 5
}
