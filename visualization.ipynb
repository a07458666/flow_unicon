{
 "cells": [
  {
   "cell_type": "markdown",
   "id": "least-consultancy",
   "metadata": {},
   "source": [
    "# visualization"
   ]
  },
  {
   "cell_type": "markdown",
   "id": "north-writer",
   "metadata": {},
   "source": [
    "## import "
   ]
  },
  {
   "cell_type": "code",
   "execution_count": 63,
   "id": "civilian-picking",
   "metadata": {},
   "outputs": [],
   "source": [
    "from __future__ import print_function\n",
    "import sys\n",
    "from syslog import LOG_MAIL\n",
    "\n",
    "from urllib3 import Retry\n",
    "import torch\n",
    "import torch.nn as nn\n",
    "import torch.optim as optim\n",
    "import torch.nn.functional as F\n",
    "import torch.backends.cudnn as cudnn\n",
    "import torchvision\n",
    "import random\n",
    "import os\n",
    "import argparse\n",
    "import numpy as np\n",
    "from PreResNet_cifar import *\n",
    "import dataloader_cifar as dataloader\n",
    "from math import log2\n",
    "from Contrastive_loss import *\n",
    "\n",
    "import collections.abc\n",
    "from collections.abc import MutableMapping\n",
    "from flow_trainer import FlowTrainer\n",
    "from flowModule.utils import standard_normal_logprob\n",
    "\n",
    "model_name_1 = 'Net1_warmup.pth'\n",
    "model_name_2 = 'Net2_warmup.pth'\n",
    "\n",
    "model_name_flow_1 = 'FlowNet1_warmup.pth'\n",
    "model_name_flow_2 = 'FlowNet2_warmup.pth'\n",
    "project_path = './checkpoint/cifar10_sym_0.5_flow_testV1'\n",
    "isFlow = True\n",
    "num_samples = 50000\n"
   ]
  },
  {
   "cell_type": "code",
   "execution_count": 64,
   "id": "breathing-issue",
   "metadata": {},
   "outputs": [
    {
     "name": "stdout",
     "output_type": "stream",
     "text": [
      "Namespace(T=0.5, alpha=4, batch_size=64, d_u=0.7, data_path='./data/cifar10', dataset='cifar10', flow_modules='8-8-8-8', gpuid=0, lambda_c=0.025, lambda_u=30, lr=0.02, metric='JSD', name='', noise_mode='sym', num_class=10, num_epochs=350, r=0.5, resume=False, seed=123, tau=5)\n"
     ]
    }
   ],
   "source": [
    "parser = argparse.ArgumentParser(description='PyTorch CIFAR Training')\n",
    "parser.add_argument('--batch_size', default=64, type=int, help='train batchsize') \n",
    "parser.add_argument('--lr', '--learning_rate', default=0.02, type=float, help='initial learning rate')\n",
    "parser.add_argument('--noise_mode',  default='sym')\n",
    "parser.add_argument('--alpha', default=4, type=float, help='parameter for Beta')\n",
    "parser.add_argument('--lambda_u', default=30, type=float, help='weight for unsupervised loss')\n",
    "parser.add_argument('--lambda_c', default=0.025, type=float, help='weight for contrastive loss')\n",
    "parser.add_argument('--T', default=0.5, type=float, help='sharpening temperature')\n",
    "parser.add_argument('--num_epochs', default=350, type=int)\n",
    "parser.add_argument('--r', default=0.5, type=float, help='noise ratio')\n",
    "parser.add_argument('--d_u',  default=0.7, type=float)\n",
    "parser.add_argument('--tau', default=5, type=float, help='filtering coefficient')\n",
    "parser.add_argument('--metric', type=str, default = 'JSD', help='Comparison Metric')\n",
    "parser.add_argument('--seed', default=123)\n",
    "parser.add_argument('--gpuid', default=0, type=int)\n",
    "parser.add_argument('--resume', default=False, type=bool, help = 'Resume from the warmup checkpoint')\n",
    "parser.add_argument('--num_class', default=10, type=int)\n",
    "parser.add_argument('--data_path', default='./data/cifar10', type=str, help='path to dataset')\n",
    "parser.add_argument('--dataset', default='cifar10', type=str)\n",
    "parser.add_argument('--flow_modules', default=\"8-8-8-8\", type=str)\n",
    "parser.add_argument('--name', default=\"\", type=str)\n",
    "args = parser.parse_args(args=[])\n",
    "\n",
    "print(args)"
   ]
  },
  {
   "cell_type": "markdown",
   "id": "mature-madrid",
   "metadata": {},
   "source": [
    "## load model"
   ]
  },
  {
   "cell_type": "code",
   "execution_count": 65,
   "id": "honey-tucson",
   "metadata": {},
   "outputs": [],
   "source": [
    "def create_model():\n",
    "    model = ResNet18(num_classes=args.num_class)\n",
    "    model = model.cuda()\n",
    "    return model\n",
    "def resume_model(path):\n",
    "    net1.load_state_dict(torch.load(os.path.join(path, model_name_1))['net'])\n",
    "    net2.load_state_dict(torch.load(os.path.join(path, model_name_2))['net'])\n",
    "    if isFlow:\n",
    "        flowNet1.load_state_dict(torch.load(os.path.join(path, model_name_flow_1))['net'])\n",
    "        flowNet2.load_state_dict(torch.load(os.path.join(path, model_name_flow_2))['net'])"
   ]
  },
  {
   "cell_type": "code",
   "execution_count": 66,
   "id": "recorded-senator",
   "metadata": {},
   "outputs": [
    {
     "name": "stdout",
     "output_type": "stream",
     "text": [
      "Training T : 1.0\n",
      "Number of trainable parameters of Point CNF: 11313\n",
      "Training T : 1.0\n",
      "Number of trainable parameters of Point CNF: 11313\n"
     ]
    }
   ],
   "source": [
    "# load encoder\n",
    "net1 = create_model()\n",
    "net2 = create_model()\n",
    "\n",
    "# load flow model\n",
    "if isFlow:\n",
    "    flowTrainer = FlowTrainer(args)\n",
    "    flowNet1 = flowTrainer.create_model()\n",
    "    flowNet2 = flowTrainer.create_model()\n",
    "    \n",
    "resume_model(project_path)"
   ]
  },
  {
   "cell_type": "markdown",
   "id": "angry-auckland",
   "metadata": {},
   "source": [
    "## load data loader"
   ]
  },
  {
   "cell_type": "code",
   "execution_count": 76,
   "id": "corporate-attendance",
   "metadata": {},
   "outputs": [],
   "source": [
    "noise_file = '%s/clean_%.4f_%s.npz'%(args.data_path,args.r, args.noise_mode)\n",
    "## Call the dataloader\n",
    "loader = dataloader.cifar_dataloader(args.dataset, r=args.r, noise_mode=args.noise_mode,batch_size=args.batch_size,num_workers=4,\\\n",
    "    root_dir=project_path,log=\"\", noise_file=noise_file)\n",
    "test_loader = loader.run(0, 'test')\n",
    "eval_loader = loader.run(0, 'eval_train')"
   ]
  },
  {
   "cell_type": "code",
   "execution_count": 86,
   "id": "multiple-chicago",
   "metadata": {},
   "outputs": [
    {
     "data": {
      "text/plain": [
       "'./data/cifar10/clean_0.5000_sym.npz'"
      ]
     },
     "execution_count": 86,
     "metadata": {},
     "output_type": "execute_result"
    }
   ],
   "source": [
    "noise_file"
   ]
  },
  {
   "cell_type": "markdown",
   "id": "decimal-dressing",
   "metadata": {},
   "source": [
    "## test"
   ]
  },
  {
   "cell_type": "code",
   "execution_count": 68,
   "id": "mighty-grant",
   "metadata": {},
   "outputs": [],
   "source": [
    "## Test Accuracy\n",
    "def test(net1,net2):\n",
    "    net1.eval()\n",
    "    net2.eval()\n",
    "\n",
    "    num_samples = 1000\n",
    "    correct = 0\n",
    "    total = 0\n",
    "    loss_x = 0\n",
    "    with torch.no_grad():\n",
    "        for batch_idx, (inputs, targets) in enumerate(test_loader):\n",
    "            inputs, targets = inputs.cuda(), targets.cuda()\n",
    "            _, outputs1 = net1(inputs)\n",
    "            _, outputs2 = net2(inputs)           \n",
    "            outputs = outputs1+outputs2\n",
    "            _, predicted = torch.max(outputs, 1)            \n",
    "#             loss = CEloss(outputs, targets)  \n",
    "#             loss_x += loss.item()\n",
    "\n",
    "            total += targets.size(0)\n",
    "            correct += predicted.eq(targets).cpu().sum().item()  \n",
    "\n",
    "    acc = 100.*correct/total\n",
    "    return acc"
   ]
  },
  {
   "cell_type": "code",
   "execution_count": 69,
   "id": "affiliated-projection",
   "metadata": {},
   "outputs": [
    {
     "data": {
      "text/plain": [
       "76.48"
      ]
     },
     "execution_count": 69,
     "metadata": {},
     "output_type": "execute_result"
    }
   ],
   "source": [
    "test(net1,net2)"
   ]
  },
  {
   "cell_type": "markdown",
   "id": "trying-nicaragua",
   "metadata": {},
   "source": [
    "## compare JSD, flow density"
   ]
  },
  {
   "cell_type": "code",
   "execution_count": 70,
   "id": "standard-slope",
   "metadata": {},
   "outputs": [],
   "source": [
    "# KL divergence\n",
    "def kl_divergence(p, q):\n",
    "    return (p * ((p+1e-10) / (q+1e-10)).log()).sum(dim=1)\n",
    "\n",
    "## Jensen-Shannon Divergence \n",
    "class Jensen_Shannon(nn.Module):\n",
    "    def __init__(self):\n",
    "        super(Jensen_Shannon,self).__init__()\n",
    "        pass\n",
    "    def forward(self, p,q):\n",
    "        m = (p+q)/2\n",
    "        return 0.5*kl_divergence(p, m) + 0.5*kl_divergence(q, m)\n",
    "## Calculate JSD\n",
    "def Calculate_JSD(model1, model2, num_samples):  \n",
    "    JS_dist = Jensen_Shannon()\n",
    "    JSD   = torch.zeros(num_samples)    \n",
    "\n",
    "    for batch_idx, (inputs, targets, index) in enumerate(eval_loader):\n",
    "        inputs, targets = inputs.cuda(), targets.cuda()\n",
    "        batch_size = inputs.size()[0]\n",
    "\n",
    "        ## Get outputs of both network\n",
    "        with torch.no_grad():\n",
    "            out1 = torch.nn.Softmax(dim=1).cuda()(model1(inputs)[1])     \n",
    "            out2 = torch.nn.Softmax(dim=1).cuda()(model2(inputs)[1])\n",
    "\n",
    "        ## Get the Prediction\n",
    "        out = (out1 + out2)/2     \n",
    "\n",
    "        ## Divergence clculator to record the diff. between ground truth and output prob. dist.  \n",
    "        dist = JS_dist(out,  F.one_hot(targets, num_classes = args.num_class))\n",
    "        JSD[int(batch_idx*batch_size):int((batch_idx+1)*batch_size)] = dist\n",
    "\n",
    "    return JSD"
   ]
  },
  {
   "cell_type": "code",
   "execution_count": 71,
   "id": "controversial-chorus",
   "metadata": {},
   "outputs": [],
   "source": [
    "prob = Calculate_JSD(net1, net2, num_samples)\n",
    "threshold = torch.mean(prob)\n",
    "if threshold.item()>args.d_u:\n",
    "    threshold = threshold - (threshold-torch.min(prob))/arg.tau"
   ]
  },
  {
   "cell_type": "code",
   "execution_count": 62,
   "id": "careful-scientist",
   "metadata": {},
   "outputs": [
    {
     "data": {
      "text/plain": [
       "tensor(0.4379)"
      ]
     },
     "execution_count": 62,
     "metadata": {},
     "output_type": "execute_result"
    }
   ],
   "source": [
    "threshold"
   ]
  },
  {
   "cell_type": "code",
   "execution_count": 72,
   "id": "hungry-immigration",
   "metadata": {},
   "outputs": [
    {
     "data": {
      "text/plain": [
       "tensor(0.4153)"
      ]
     },
     "execution_count": 72,
     "metadata": {},
     "output_type": "execute_result"
    }
   ],
   "source": [
    "threshold"
   ]
  },
  {
   "cell_type": "code",
   "execution_count": 114,
   "id": "peripheral-toronto",
   "metadata": {},
   "outputs": [],
   "source": [
    "noise_label = np.load(noise_file)['label']\n",
    "noise_idx = np.load(noise_file)['index']\n",
    "idx       = list(range(50000))\n",
    "clean_idx = [x for x in idx if x not in noise_idx]"
   ]
  },
  {
   "cell_type": "code",
   "execution_count": 126,
   "id": "directed-creativity",
   "metadata": {},
   "outputs": [],
   "source": [
    "true_prob_data = [x for x in idx if float(prob[x]) <= float(threshold)]\n",
    "noise_prob_data = [x for x in idx if float(prob[x]) > float(threshold)]"
   ]
  },
  {
   "cell_type": "code",
   "execution_count": 127,
   "id": "offensive-softball",
   "metadata": {},
   "outputs": [
    {
     "name": "stdout",
     "output_type": "stream",
     "text": [
      "true  22703  noise  27297\n"
     ]
    }
   ],
   "source": [
    "print(\"true \", len(true_prob_data), \" noise \" ,len(noise_prob_data))"
   ]
  },
  {
   "cell_type": "code",
   "execution_count": 128,
   "id": "specialized-scout",
   "metadata": {},
   "outputs": [],
   "source": [
    "## True Positive\n",
    "TP = [x for x in true_prob_data if x in clean_idx]\n",
    "## True Negative\n",
    "TN = [x for x in noise_prob_data if x in noise_idx]\n",
    "## False Positive\n",
    "FP = [x for x in true_prob_data if x in noise_idx]\n",
    "## False Negative\n",
    "FN = [x for x in noise_prob_data if x in clean_idx]"
   ]
  },
  {
   "cell_type": "code",
   "execution_count": 129,
   "id": "comic-canada",
   "metadata": {},
   "outputs": [
    {
     "name": "stdout",
     "output_type": "stream",
     "text": [
      "TP : 19916 TN : 22213 FP: 2787 FN : 5084\n"
     ]
    }
   ],
   "source": [
    "print(\"TP :\", len(TP), \"TN :\", len(TN) , \"FP:\", len(FP), \"FN :\", len(FN))"
   ]
  },
  {
   "cell_type": "code",
   "execution_count": 132,
   "id": "labeled-nomination",
   "metadata": {},
   "outputs": [],
   "source": [
    "TPR = len(TP) / (len(TP) + len(FN))\n",
    "TNR = len(TN) / (len(TN) + len(FP))"
   ]
  },
  {
   "cell_type": "code",
   "execution_count": 133,
   "id": "fossil-creativity",
   "metadata": {},
   "outputs": [
    {
     "data": {
      "text/plain": [
       "0.79664"
      ]
     },
     "execution_count": 133,
     "metadata": {},
     "output_type": "execute_result"
    }
   ],
   "source": [
    "TPR"
   ]
  },
  {
   "cell_type": "code",
   "execution_count": 134,
   "id": "acknowledged-cookbook",
   "metadata": {},
   "outputs": [
    {
     "data": {
      "text/plain": [
       "0.88852"
      ]
     },
     "execution_count": 134,
     "metadata": {},
     "output_type": "execute_result"
    }
   ],
   "source": [
    "TNR"
   ]
  },
  {
   "cell_type": "code",
   "execution_count": 140,
   "id": "measured-entrance",
   "metadata": {},
   "outputs": [
    {
     "data": {
      "image/png": "[encoded data removed]",
      "text/plain": [
       "<Figure size 432x288 with 1 Axes>"
      ]
     },
     "metadata": {
      "needs_background": "light"
     },
     "output_type": "display_data"
    }
   ],
   "source": [
    "import numpy as np\n",
    "import matplotlib.pyplot as plt\n",
    "\n",
    "%matplotlib inline\n",
    "\n",
    "np.random.seed(19680801)\n",
    "\n",
    "n_bins = 10\n",
    "x = np.random.randn(1000, 3)\n",
    "\n",
    "fig, ((ax0)) = plt.subplots(nrows=1, ncols=1)\n",
    "\n",
    "colors = ['red', 'tan', 'lime']\n",
    "\n",
    "ax0.hist(x, n_bins, density=True, histtype='bar', stacked=True)\n",
    "ax0.set_title('stacked bar')\n",
    "\n",
    "fig.tight_layout()\n",
    "plt.show()"
   ]
  },
  {
   "cell_type": "code",
   "execution_count": 142,
   "id": "relevant-choice",
   "metadata": {},
   "outputs": [
    {
     "data": {
      "text/plain": [
       "(1000, 3)"
      ]
     },
     "execution_count": 142,
     "metadata": {},
     "output_type": "execute_result"
    }
   ],
   "source": [
    "x.shape"
   ]
  },
  {
   "cell_type": "code",
   "execution_count": 143,
   "id": "narrow-foundation",
   "metadata": {},
   "outputs": [
    {
     "data": {
      "text/plain": [
       "10"
      ]
     },
     "execution_count": 143,
     "metadata": {},
     "output_type": "execute_result"
    }
   ],
   "source": [
    "n_bins"
   ]
  },
  {
   "cell_type": "code",
   "execution_count": 144,
   "id": "concerned-hampton",
   "metadata": {},
   "outputs": [
    {
     "data": {
      "text/plain": [
       "array([[ 1.04930431,  0.86609917,  0.5511346 ],\n",
       "       [ 1.72807779, -0.64928812, -0.47841958],\n",
       "       [ 1.07788511,  0.96881033, -0.80934479],\n",
       "       [-1.2373891 ,  1.86011654, -0.30831924],\n",
       "       [ 0.78297055,  0.02152345,  0.71566379],\n",
       "       [ 1.40146651, -1.12750212,  1.65581822],\n",
       "       [ 1.40096148,  0.20199007, -0.96486356],\n",
       "       [ 1.04458851, -0.43105069, -0.4973195 ],\n",
       "       [-0.05911742, -1.11460467, -1.22699779],\n",
       "       [-1.41008819,  1.31086051, -0.51744207]])"
      ]
     },
     "execution_count": 144,
     "metadata": {},
     "output_type": "execute_result"
    }
   ],
   "source": [
    "x[:10]"
   ]
  },
  {
   "cell_type": "code",
   "execution_count": null,
   "id": "further-eating",
   "metadata": {},
   "outputs": [],
   "source": []
  }
 ],
 "metadata": {
  "kernelspec": {
   "display_name": "Python 3",
   "language": "python",
   "name": "python3"
  },
  "language_info": {
   "codemirror_mode": {
    "name": "ipython",
    "version": 3
   },
   "file_extension": ".py",
   "mimetype": "text/x-python",
   "name": "python",
   "nbconvert_exporter": "python",
   "pygments_lexer": "ipython3",
   "version": "3.7.10"
  }
 },
 "nbformat": 4,
 "nbformat_minor": 5
}
