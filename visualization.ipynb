{
 "cells": [
  {
   "cell_type": "markdown",
   "id": "surgical-bobby",
   "metadata": {},
   "source": [
    "# visualization"
   ]
  },
  {
   "cell_type": "markdown",
   "id": "powerful-alpha",
   "metadata": {},
   "source": [
    "## import "
   ]
  },
  {
   "cell_type": "code",
   "execution_count": 242,
   "id": "technical-milton",
   "metadata": {},
   "outputs": [],
   "source": [
    "from __future__ import print_function\n",
    "import sys\n",
    "from syslog import LOG_MAIL\n",
    "\n",
    "from urllib3 import Retry\n",
    "import torch\n",
    "import torch.nn as nn\n",
    "import torch.optim as optim\n",
    "import torch.nn.functional as F\n",
    "import torch.backends.cudnn as cudnn\n",
    "import torchvision\n",
    "import random\n",
    "import os\n",
    "import argparse\n",
    "import numpy as np\n",
    "from PreResNet_cifar import *\n",
    "import dataloader_cifar as dataloader\n",
    "from math import log2\n",
    "from Contrastive_loss import *\n",
    "\n",
    "import collections.abc\n",
    "from collections.abc import MutableMapping\n",
    "from flow_trainer import FlowTrainer\n",
    "from flowModule.utils import standard_normal_logprob\n",
    "from tqdm import tqdm\n",
    "model_name_warmup = 'Net_warmup.pth'\n",
    "model_name_flow_warmup = 'FlowNet_warmup.pth'\n",
    "\n",
    "model_name = 'Net.pth'\n",
    "model_name_flow = 'FlowNet.pth'\n",
    "project_path = './checkpoint/cifar10_sym_0.9_flow_one_net_one_flow_b256_lamb'\n",
    "isFlow = True\n",
    "num_samples = 50000\n"
   ]
  },
  {
   "cell_type": "code",
   "execution_count": 243,
   "id": "rental-syntax",
   "metadata": {},
   "outputs": [
    {
     "name": "stdout",
     "output_type": "stream",
     "text": [
      "Namespace(T=0.5, alpha=4, batch_size=64, d_u=0.7, data_path='./data/cifar10', dataset='cifar10', flow_modules='8-8-8-8', gpuid=0, lambda_c=0.025, lambda_u=30, lr=0.02, metric='JSD', name='', noise_mode='sym', num_class=10, num_epochs=350, r=0.9, resume=False, seed=123, tau=5)\n"
     ]
    }
   ],
   "source": [
    "parser = argparse.ArgumentParser(description='PyTorch CIFAR Training')\n",
    "parser.add_argument('--batch_size', default=64, type=int, help='train batchsize') \n",
    "parser.add_argument('--lr', '--learning_rate', default=0.02, type=float, help='initial learning rate')\n",
    "parser.add_argument('--noise_mode',  default='sym')\n",
    "parser.add_argument('--alpha', default=4, type=float, help='parameter for Beta')\n",
    "parser.add_argument('--lambda_u', default=30, type=float, help='weight for unsupervised loss')\n",
    "parser.add_argument('--lambda_c', default=0.025, type=float, help='weight for contrastive loss')\n",
    "parser.add_argument('--T', default=0.5, type=float, help='sharpening temperature')\n",
    "parser.add_argument('--num_epochs', default=350, type=int)\n",
    "parser.add_argument('--r', default=0.9, type=float, help='noise ratio')\n",
    "parser.add_argument('--d_u',  default=0.7, type=float)\n",
    "parser.add_argument('--tau', default=5, type=float, help='filtering coefficient')\n",
    "parser.add_argument('--metric', type=str, default = 'JSD', help='Comparison Metric')\n",
    "parser.add_argument('--seed', default=123)\n",
    "parser.add_argument('--gpuid', default=0, type=int)\n",
    "parser.add_argument('--resume', default=False, type=bool, help = 'Resume from the warmup checkpoint')\n",
    "parser.add_argument('--num_class', default=10, type=int)\n",
    "parser.add_argument('--data_path', default='./data/cifar10', type=str, help='path to dataset')\n",
    "parser.add_argument('--dataset', default='cifar10', type=str)\n",
    "parser.add_argument('--flow_modules', default=\"8-8-8-8\", type=str)\n",
    "parser.add_argument('--name', default=\"\", type=str)\n",
    "args = parser.parse_args(args=[])\n",
    "\n",
    "print(args)"
   ]
  },
  {
   "cell_type": "markdown",
   "id": "stylish-cemetery",
   "metadata": {},
   "source": [
    "## load model"
   ]
  },
  {
   "cell_type": "code",
   "execution_count": 244,
   "id": "representative-community",
   "metadata": {},
   "outputs": [],
   "source": [
    "def create_model():\n",
    "    model = ResNet18(num_classes=args.num_class)\n",
    "    model = model.cuda()\n",
    "    return model\n",
    "def resume_model(path):\n",
    "    net_warmup.load_state_dict(torch.load(os.path.join(path, model_name_warmup))['net'])\n",
    "    net.load_state_dict(torch.load(os.path.join(path, model_name))['net'])\n",
    "    if isFlow:\n",
    "        flowNet_warmup.load_state_dict(torch.load(os.path.join(path, model_name_flow_warmup))['net'])\n",
    "        flowNet.load_state_dict(torch.load(os.path.join(path, model_name_flow))['net'])"
   ]
  },
  {
   "cell_type": "code",
   "execution_count": 245,
   "id": "official-glucose",
   "metadata": {},
   "outputs": [
    {
     "name": "stdout",
     "output_type": "stream",
     "text": [
      "Training T : 1.0\n",
      "Number of trainable parameters of Point CNF: 11313\n",
      "Training T : 1.0\n",
      "Number of trainable parameters of Point CNF: 11313\n"
     ]
    }
   ],
   "source": [
    "# load encoder\n",
    "net_warmup = create_model()\n",
    "net = create_model()\n",
    "\n",
    "# load flow model\n",
    "if isFlow:\n",
    "    flowTrainer = FlowTrainer(args)\n",
    "    flowNet_warmup = flowTrainer.create_model()    \n",
    "    flowNet = flowTrainer.create_model()    \n",
    "resume_model(project_path)"
   ]
  },
  {
   "cell_type": "markdown",
   "id": "streaming-dryer",
   "metadata": {},
   "source": [
    "## load data loader"
   ]
  },
  {
   "cell_type": "code",
   "execution_count": 246,
   "id": "naked-vegetable",
   "metadata": {},
   "outputs": [],
   "source": [
    "noise_file = '%s/clean_%.4f_%s.npz'%(args.data_path,args.r, args.noise_mode)\n",
    "## Call the dataloader\n",
    "loader = dataloader.cifar_dataloader(args.dataset, r=args.r, noise_mode=args.noise_mode,batch_size=args.batch_size,num_workers=4,\\\n",
    "    root_dir=project_path,log=\"\", noise_file=noise_file)\n",
    "test_loader = loader.run(0, 'test')\n",
    "eval_loader = loader.run(0, 'eval_train')"
   ]
  },
  {
   "cell_type": "code",
   "execution_count": 247,
   "id": "abstract-solomon",
   "metadata": {},
   "outputs": [
    {
     "data": {
      "text/plain": [
       "'./data/cifar10/clean_0.9000_sym.npz'"
      ]
     },
     "execution_count": 247,
     "metadata": {},
     "output_type": "execute_result"
    }
   ],
   "source": [
    "noise_file"
   ]
  },
  {
   "cell_type": "markdown",
   "id": "clinical-shame",
   "metadata": {},
   "source": [
    "## test"
   ]
  },
  {
   "cell_type": "code",
   "execution_count": 248,
   "id": "composed-harris",
   "metadata": {},
   "outputs": [],
   "source": [
    "## Test Accuracy\n",
    "def test(net1,net2):\n",
    "    net1.eval()\n",
    "    net2.eval()\n",
    "\n",
    "    num_samples = 1000\n",
    "    correct = 0\n",
    "    total = 0\n",
    "    loss_x = 0\n",
    "    with torch.no_grad():\n",
    "        for batch_idx, (inputs, targets) in enumerate(test_loader):\n",
    "            inputs, targets = inputs.cuda(), targets.cuda()\n",
    "            _, outputs1 = net1(inputs)\n",
    "            _, outputs2 = net2(inputs)           \n",
    "            outputs = outputs1+outputs2\n",
    "            _, predicted = torch.max(outputs, 1)            \n",
    "#             loss = CEloss(outputs, targets)  \n",
    "#             loss_x += loss.item()\n",
    "\n",
    "            total += targets.size(0)\n",
    "            correct += predicted.eq(targets).cpu().sum().item()  \n",
    "\n",
    "    acc = 100.*correct/total\n",
    "    return acc"
   ]
  },
  {
   "cell_type": "code",
   "execution_count": 249,
   "id": "entire-status",
   "metadata": {},
   "outputs": [
    {
     "name": "stdout",
     "output_type": "stream",
     "text": [
      "acc(warmup)  36.64 , acc(flow) =  70.45\n"
     ]
    }
   ],
   "source": [
    "# acc = test(net1,net2)\n",
    "acc_flow_warmup = flowTrainer.testByFlow(net_warmup, flowNet_warmup, test_loader)\n",
    "acc_flow = flowTrainer.testByFlow(net, flowNet, test_loader)\n",
    "print(\"acc(warmup) \", acc_flow_warmup, \", acc(flow) = \", acc_flow)"
   ]
  },
  {
   "cell_type": "markdown",
   "id": "greek-sigma",
   "metadata": {},
   "source": [
    "## compare JSD, flow density"
   ]
  },
  {
   "cell_type": "code",
   "execution_count": 250,
   "id": "controversial-publisher",
   "metadata": {},
   "outputs": [],
   "source": [
    "# KL divergence\n",
    "def kl_divergence(p, q):\n",
    "    return (p * ((p+1e-10) / (q+1e-10)).log()).sum(dim=1)\n",
    "\n",
    "## Jensen-Shannon Divergence \n",
    "class Jensen_Shannon(nn.Module):\n",
    "    def __init__(self):\n",
    "        super(Jensen_Shannon,self).__init__()\n",
    "        pass\n",
    "    def forward(self, p,q):\n",
    "        m = (p+q)/2\n",
    "        return 0.5*kl_divergence(p, m) + 0.5*kl_divergence(q, m)\n",
    "## Calculate JSD\n",
    "# def Calculate_JSD(model1, model2, num_samples):  \n",
    "#     JS_dist = Jensen_Shannon()\n",
    "#     JSD   = torch.zeros(num_samples)    \n",
    "\n",
    "#     for batch_idx, (inputs, targets, index) in enumerate(eval_loader):\n",
    "#         inputs, targets = inputs.cuda(), targets.cuda()\n",
    "#         batch_size = inputs.size()[0]\n",
    "\n",
    "#         ## Get outputs of both network\n",
    "#         with torch.no_grad():\n",
    "#             out1 = torch.nn.Softmax(dim=1).cuda()(model1(inputs)[1])     \n",
    "#             out2 = torch.nn.Softmax(dim=1).cuda()(model2(inputs)[1])\n",
    "\n",
    "#         ## Get the Prediction\n",
    "#         out = (out1 + out2)/2     \n",
    "\n",
    "#         ## Divergence clculator to record the diff. between ground truth and output prob. dist.  \n",
    "#         dist = JS_dist(out,  F.one_hot(targets, num_classes = args.num_class))\n",
    "#         JSD[int(batch_idx*batch_size):int((batch_idx+1)*batch_size)] = dist\n",
    "\n",
    "#     return JSD\n",
    "def Calculate_JSD(net, flowNet, num_samples):  \n",
    "    JS_dist = Jensen_Shannon()\n",
    "    JSD   = torch.zeros(num_samples)    \n",
    "\n",
    "    for batch_idx, (inputs, targets, index) in tqdm(enumerate(eval_loader)):\n",
    "        inputs, targets = inputs.cuda(), targets.cuda()\n",
    "        batch_size = inputs.size()[0]\n",
    "\n",
    "        ## Get outputs of both network\n",
    "        with torch.no_grad():\n",
    "            feature = net(inputs)[0]\n",
    "            out = flowTrainer.predict(flowNet, feature)\n",
    "\n",
    "        ## Divergence clculator to record the diff. between ground truth and output prob. dist.  \n",
    "        dist = JS_dist(out,  F.one_hot(targets, num_classes = args.num_class))\n",
    "        JSD[int(batch_idx*batch_size):int((batch_idx+1)*batch_size)] = dist\n",
    "\n",
    "    return JSD"
   ]
  },
  {
   "cell_type": "code",
   "execution_count": 260,
   "id": "promotional-acceptance",
   "metadata": {},
   "outputs": [
    {
     "name": "stderr",
     "output_type": "stream",
     "text": [
      "500it [01:20,  6.20it/s]\n"
     ]
    }
   ],
   "source": [
    "prob = Calculate_JSD(net, flowNet, num_samples)\n",
    "# prob = Calculate_JSD(net_warmup, flowNet_warmup, num_samples)\n",
    "threshold = torch.mean(prob)\n",
    "if threshold.item()>args.d_u:\n",
    "    threshold = threshold - (threshold-torch.min(prob))/arg.tau\n",
    "SR = torch.sum(prob<threshold).item()/num_samples    "
   ]
  },
  {
   "cell_type": "code",
   "execution_count": 261,
   "id": "effective-consensus",
   "metadata": {},
   "outputs": [],
   "source": [
    "labeled_trainloader, unlabeled_trainloader = loader.run(SR, 'train', prob= prob) # Uniform Selection\n",
    "\n",
    "labeled_idx = labeled_trainloader.dataset.pred_idx\n",
    "unlabeled_idx = unlabeled_trainloader.dataset.pred_idx\n",
    "class_ind = labeled_trainloader.dataset.class_ind\n",
    "labeled_prob = [prob[i] for i in labeled_idx]\n",
    "unlabeled_prob = [prob[i] for i in unlabeled_idx]\n",
    "sample_ratio = torch.sum(prob<threshold).item()/num_samples"
   ]
  },
  {
   "cell_type": "code",
   "execution_count": 262,
   "id": "therapeutic-cycle",
   "metadata": {},
   "outputs": [],
   "source": [
    "noise_label = np.load(noise_file)['label']\n",
    "noise_idx = np.load(noise_file)['index']\n",
    "idx       = list(range(50000))\n",
    "clean_idx = [x for x in idx if x not in noise_idx]"
   ]
  },
  {
   "cell_type": "code",
   "execution_count": 263,
   "id": "whole-literacy",
   "metadata": {},
   "outputs": [],
   "source": [
    "## True Positive\n",
    "TP = [x for x in labeled_idx if x in clean_idx]\n",
    "## False Positive\n",
    "FP = [x for x in labeled_idx if x in noise_idx]"
   ]
  },
  {
   "cell_type": "code",
   "execution_count": 264,
   "id": "architectural-romantic",
   "metadata": {},
   "outputs": [
    {
     "name": "stdout",
     "output_type": "stream",
     "text": [
      "TP : 4586 FP: 15704\n"
     ]
    }
   ],
   "source": [
    "print(\"TP :\", len(TP), \"FP:\", len(FP))"
   ]
  },
  {
   "cell_type": "code",
   "execution_count": 265,
   "id": "literary-unknown",
   "metadata": {},
   "outputs": [],
   "source": [
    "TP_classes = []\n",
    "NP_classes = []\n",
    "for i in range(0, 10):\n",
    "    TP_classes.append(len([x for x in TP if x in class_ind[i]]))\n",
    "    NP_classes.append(len([x for x in FP if x in class_ind[i]]))"
   ]
  },
  {
   "cell_type": "code",
   "execution_count": 266,
   "id": "recorded-perspective",
   "metadata": {},
   "outputs": [
    {
     "data": {
      "text/plain": [
       "[470, 494, 384, 492, 475, 349, 475, 442, 505, 500]"
      ]
     },
     "execution_count": 266,
     "metadata": {},
     "output_type": "execute_result"
    }
   ],
   "source": [
    "TP_classes"
   ]
  },
  {
   "cell_type": "code",
   "execution_count": 267,
   "id": "united-bangladesh",
   "metadata": {},
   "outputs": [
    {
     "data": {
      "text/plain": [
       "[1559, 1535, 1645, 1537, 1554, 1680, 1554, 1587, 1524, 1529]"
      ]
     },
     "execution_count": 267,
     "metadata": {},
     "output_type": "execute_result"
    }
   ],
   "source": [
    "NP_classes"
   ]
  },
  {
   "cell_type": "code",
   "execution_count": 268,
   "id": "cutting-minority",
   "metadata": {},
   "outputs": [
    {
     "data": {
      "image/png": "[encoded data removed]",
      "text/plain": [
       "<Figure size 576x432 with 1 Axes>"
      ]
     },
     "metadata": {
      "needs_background": "light"
     },
     "output_type": "display_data"
    }
   ],
   "source": [
    "import numpy as np\n",
    "import matplotlib.pyplot as plt\n",
    "label = ['0','1','2','3','4','5','6','7','8','9']\n",
    "\n",
    "plt.figure(figsize=(8,6))\n",
    "x = np.arange(len(label))\n",
    "plt.bar(x, NP_classes, color='blue', label='False Postive: noisy label', bottom=TP_classes)\n",
    "plt.bar(x, TP_classes, color='red', label='True Positive: clean label')\n",
    "\n",
    "plt.xticks(x, label)\n",
    "plt.xlabel('class index')\n",
    "plt.ylabel('Number of Selected Clean Labe')\n",
    "plt.legend(loc='upper right')\n",
    "plt.ylim((0,5000))\n",
    "plt.show()"
   ]
  },
  {
   "cell_type": "code",
   "execution_count": null,
   "id": "terminal-tonight",
   "metadata": {},
   "outputs": [],
   "source": []
  }
 ],
 "metadata": {
  "kernelspec": {
   "display_name": "Python 3",
   "language": "python",
   "name": "python3"
  },
  "language_info": {
   "codemirror_mode": {
    "name": "ipython",
    "version": 3
   },
   "file_extension": ".py",
   "mimetype": "text/x-python",
   "name": "python",
   "nbconvert_exporter": "python",
   "pygments_lexer": "ipython3",
   "version": "3.7.10"
  }
 },
 "nbformat": 4,
 "nbformat_minor": 5
}
