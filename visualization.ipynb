{
 "cells": [
  {
   "cell_type": "markdown",
   "id": "amino-touch",
   "metadata": {},
   "source": [
    "# visualization"
   ]
  },
  {
   "cell_type": "markdown",
   "id": "atomic-archives",
   "metadata": {},
   "source": [
    "## import "
   ]
  },
  {
   "cell_type": "code",
   "execution_count": 5,
   "id": "coated-secondary",
   "metadata": {},
   "outputs": [],
   "source": [
    "from __future__ import print_function\n",
    "import sys\n",
    "from syslog import LOG_MAIL\n",
    "\n",
    "from urllib3 import Retry\n",
    "import torch\n",
    "import torch.nn as nn\n",
    "import torch.optim as optim\n",
    "import torch.nn.functional as F\n",
    "import torch.backends.cudnn as cudnn\n",
    "import torchvision\n",
    "import random\n",
    "import os\n",
    "import argparse\n",
    "import numpy as np\n",
    "from PreResNet_cifar import *\n",
    "import dataloader_cifar as dataloader\n",
    "from math import log2\n",
    "from Contrastive_loss import *\n",
    "\n",
    "import collections.abc\n",
    "from collections.abc import MutableMapping\n",
    "from flow_trainer import FlowTrainer\n",
    "from flowModule.utils import standard_normal_logprob\n",
    "from tqdm import tqdm\n",
    "\n",
    "import numpy as np\n",
    "import matplotlib.pyplot as plt\n",
    "%matplotlib inline\n",
    "\n",
    "\n",
    "project_path = './checkpoint/cifar10_sym_0.5'\n",
    "isFlow = False\n",
    "num_samples = 50000\n",
    "\n",
    "if isFlow:\n",
    "    model_name_warmup = 'Net_warmup.pth'\n",
    "    model_name_flow_warmup = 'FlowNet_warmup.pth'\n",
    "\n",
    "    model_name = 'Net.pth'\n",
    "    model_name_flow = 'FlowNet.pth'\n",
    "else:\n",
    "    model_name_warmup = 'Net1_warmup.pth'\n",
    "    model_name = 'Net1.pth'\n",
    "    model_name_warmup_2 = 'Net2_warmup.pth'\n",
    "    model_name_2 = 'Net2.pth'\n"
   ]
  },
  {
   "cell_type": "code",
   "execution_count": 2,
   "id": "daily-latin",
   "metadata": {},
   "outputs": [
    {
     "name": "stdout",
     "output_type": "stream",
     "text": [
      "Namespace(T=0.5, alpha=4, batch_size=64, d_u=0.7, data_path='./data/cifar10', dataset='cifar10', flow_modules='8-8-8-8', gpuid=0, lambda_c=0.025, lambda_u=30, lr=0.02, metric='JSD', name='', noise_mode='sym', num_class=10, num_epochs=350, r=0.5, resume=False, seed=123, tau=5)\n"
     ]
    }
   ],
   "source": [
    "parser = argparse.ArgumentParser(description='PyTorch CIFAR Training')\n",
    "parser.add_argument('--batch_size', default=64, type=int, help='train batchsize') \n",
    "parser.add_argument('--lr', '--learning_rate', default=0.02, type=float, help='initial learning rate')\n",
    "parser.add_argument('--noise_mode',  default='sym')\n",
    "parser.add_argument('--alpha', default=4, type=float, help='parameter for Beta')\n",
    "parser.add_argument('--lambda_u', default=30, type=float, help='weight for unsupervised loss')\n",
    "parser.add_argument('--lambda_c', default=0.025, type=float, help='weight for contrastive loss')\n",
    "parser.add_argument('--T', default=0.5, type=float, help='sharpening temperature')\n",
    "parser.add_argument('--num_epochs', default=350, type=int)\n",
    "parser.add_argument('--r', default=0.5, type=float, help='noise ratio')\n",
    "parser.add_argument('--d_u',  default=0.7, type=float)\n",
    "parser.add_argument('--tau', default=5, type=float, help='filtering coefficient')\n",
    "parser.add_argument('--metric', type=str, default = 'JSD', help='Comparison Metric')\n",
    "parser.add_argument('--seed', default=123)\n",
    "parser.add_argument('--gpuid', default=0, type=int)\n",
    "parser.add_argument('--resume', default=False, type=bool, help = 'Resume from the warmup checkpoint')\n",
    "parser.add_argument('--num_class', default=10, type=int)\n",
    "parser.add_argument('--data_path', default='./data/cifar10', type=str, help='path to dataset')\n",
    "parser.add_argument('--dataset', default='cifar10', type=str)\n",
    "parser.add_argument('--flow_modules', default=\"8-8-8-8\", type=str)\n",
    "parser.add_argument('--name', default=\"\", type=str)\n",
    "args = parser.parse_args(args=[])\n",
    "\n",
    "print(args)"
   ]
  },
  {
   "cell_type": "markdown",
   "id": "dressed-insulation",
   "metadata": {},
   "source": [
    "## load model"
   ]
  },
  {
   "cell_type": "code",
   "execution_count": 3,
   "id": "graphic-humanitarian",
   "metadata": {},
   "outputs": [],
   "source": [
    "def create_model():\n",
    "    model = ResNet18(num_classes=args.num_class)\n",
    "    model = model.cuda()\n",
    "    return model\n",
    "def resume_model(path):\n",
    "    net_warmup.load_state_dict(torch.load(os.path.join(path, model_name_warmup))['net'])\n",
    "    net.load_state_dict(torch.load(os.path.join(path, model_name))['net'])\n",
    "    if isFlow:\n",
    "        flowNet_warmup.load_state_dict(torch.load(os.path.join(path, model_name_flow_warmup))['net'])\n",
    "        flowNet.load_state_dict(torch.load(os.path.join(path, model_name_flow))['net'])\n",
    "    else:\n",
    "        net_warmup_2.load_state_dict(torch.load(os.path.join(path, model_name_warmup_2))['net'])\n",
    "        net_2.load_state_dict(torch.load(os.path.join(path, model_name_2))['net'])"
   ]
  },
  {
   "cell_type": "code",
   "execution_count": 6,
   "id": "regular-japan",
   "metadata": {},
   "outputs": [],
   "source": [
    "# load encoder\n",
    "net_warmup = create_model()\n",
    "net = create_model()\n",
    "\n",
    "# load flow model\n",
    "if isFlow:\n",
    "    flowTrainer = FlowTrainer(args)\n",
    "    flowNet_warmup = flowTrainer.create_model()    \n",
    "    flowNet = flowTrainer.create_model()   \n",
    "else:\n",
    "    net_warmup_2 = create_model()\n",
    "    net_2 = create_model()\n",
    "resume_model(project_path)"
   ]
  },
  {
   "cell_type": "markdown",
   "id": "secondary-things",
   "metadata": {},
   "source": [
    "## load data loader"
   ]
  },
  {
   "cell_type": "code",
   "execution_count": 7,
   "id": "normal-pilot",
   "metadata": {},
   "outputs": [],
   "source": [
    "noise_file = '%s/clean_%.4f_%s.npz'%(args.data_path,args.r, args.noise_mode)\n",
    "## Call the dataloader\n",
    "loader = dataloader.cifar_dataloader(args.dataset, r=args.r, noise_mode=args.noise_mode,batch_size=args.batch_size,num_workers=4,\\\n",
    "    root_dir=project_path,log=\"\", noise_file=noise_file)\n",
    "test_loader = loader.run(0, 'test')\n",
    "eval_loader = loader.run(0, 'eval_train')"
   ]
  },
  {
   "cell_type": "code",
   "execution_count": 8,
   "id": "terminal-adrian",
   "metadata": {},
   "outputs": [
    {
     "data": {
      "text/plain": [
       "'./data/cifar10/clean_0.5000_sym.npz'"
      ]
     },
     "execution_count": 8,
     "metadata": {},
     "output_type": "execute_result"
    }
   ],
   "source": [
    "noise_file"
   ]
  },
  {
   "cell_type": "markdown",
   "id": "nominated-trainer",
   "metadata": {},
   "source": [
    "## test"
   ]
  },
  {
   "cell_type": "code",
   "execution_count": 9,
   "id": "fantastic-young",
   "metadata": {},
   "outputs": [],
   "source": [
    "## Test Accuracy\n",
    "def test(net1,net2):\n",
    "    net1.eval()\n",
    "    net2.eval()\n",
    "\n",
    "    num_samples = 1000\n",
    "    correct = 0\n",
    "    total = 0\n",
    "    loss_x = 0\n",
    "    with torch.no_grad():\n",
    "        for batch_idx, (inputs, targets) in enumerate(test_loader):\n",
    "            inputs, targets = inputs.cuda(), targets.cuda()\n",
    "            _, outputs1 = net1(inputs)\n",
    "            _, outputs2 = net2(inputs)           \n",
    "            outputs = outputs1+outputs2\n",
    "            _, predicted = torch.max(outputs, 1)            \n",
    "#             loss = CEloss(outputs, targets)  \n",
    "#             loss_x += loss.item()\n",
    "\n",
    "            total += targets.size(0)\n",
    "            correct += predicted.eq(targets).cpu().sum().item()  \n",
    "\n",
    "    acc = 100.*correct/total\n",
    "    return acc"
   ]
  },
  {
   "cell_type": "code",
   "execution_count": 11,
   "id": "macro-algebra",
   "metadata": {},
   "outputs": [
    {
     "name": "stdout",
     "output_type": "stream",
     "text": [
      "acc(warmup)  78.05 , acc(flow) =  95.52\n"
     ]
    }
   ],
   "source": [
    "if isFlow:\n",
    "    acc_flow_warmup = flowTrainer.testByFlow(net_warmup, flowNet_warmup, test_loader)\n",
    "    acc_flow = flowTrainer.testByFlow(net, flowNet, test_loader)\n",
    "    print(\"acc(warmup) \", acc_flow_warmup, \", acc(flow) = \", acc_flow)\n",
    "else:\n",
    "    acc = test(net,net_2)\n",
    "    acc_warmup = test(net_warmup,net_warmup_2)\n",
    "    \n",
    "    print(\"acc(warmup) \", acc_warmup, \", acc(flow) = \", acc)"
   ]
  },
  {
   "cell_type": "markdown",
   "id": "sacred-skiing",
   "metadata": {},
   "source": [
    "## compare JSD, flow density"
   ]
  },
  {
   "cell_type": "code",
   "execution_count": 15,
   "id": "marked-measure",
   "metadata": {},
   "outputs": [],
   "source": [
    "# KL divergence\n",
    "def kl_divergence(p, q):\n",
    "    return (p * ((p+1e-10) / (q+1e-10)).log()).sum(dim=1)\n",
    "\n",
    "## Jensen-Shannon Divergence \n",
    "class Jensen_Shannon(nn.Module):\n",
    "    def __init__(self):\n",
    "        super(Jensen_Shannon,self).__init__()\n",
    "        pass\n",
    "    def forward(self, p,q):\n",
    "        m = (p+q)/2\n",
    "        return 0.5*kl_divergence(p, m) + 0.5*kl_divergence(q, m)\n",
    "## Calculate JSD\n",
    "def Calculate_JSD(model1, model2, num_samples):  \n",
    "    JS_dist = Jensen_Shannon()\n",
    "    JSD   = torch.zeros(num_samples)    \n",
    "\n",
    "    for batch_idx, (inputs, targets, index) in tqdm(enumerate(eval_loader)):\n",
    "        inputs, targets = inputs.cuda(), targets.cuda()\n",
    "        batch_size = inputs.size()[0]\n",
    "\n",
    "        ## Get outputs of both network\n",
    "        with torch.no_grad():\n",
    "            out1 = torch.nn.Softmax(dim=1).cuda()(model1(inputs)[1])     \n",
    "            out2 = torch.nn.Softmax(dim=1).cuda()(model2(inputs)[1])\n",
    "\n",
    "        ## Get the Prediction\n",
    "        out = (out1 + out2)/2     \n",
    "\n",
    "        ## Divergence clculator to record the diff. between ground truth and output prob. dist.  \n",
    "        dist = JS_dist(out,  F.one_hot(targets, num_classes = args.num_class))\n",
    "        JSD[int(batch_idx*batch_size):int((batch_idx+1)*batch_size)] = dist\n",
    "    return JSD\n",
    "\n",
    "def Calculate_JSD_Flow(net, flowNet, num_samples):  \n",
    "    JS_dist = Jensen_Shannon()\n",
    "    JSD   = torch.zeros(num_samples)    \n",
    "\n",
    "    for batch_idx, (inputs, targets, index) in tqdm(enumerate(eval_loader)):\n",
    "        inputs, targets = inputs.cuda(), targets.cuda()\n",
    "        batch_size = inputs.size()[0]\n",
    "\n",
    "        ## Get outputs of both network\n",
    "        with torch.no_grad():\n",
    "            feature = net(inputs)[0]\n",
    "            out = flowTrainer.predict(flowNet, feature)\n",
    "\n",
    "        ## Divergence clculator to record the diff. between ground truth and output prob. dist.  \n",
    "        dist = JS_dist(out,  F.one_hot(targets, num_classes = args.num_class))\n",
    "        JSD[int(batch_idx*batch_size):int((batch_idx+1)*batch_size)] = dist\n",
    "\n",
    "    return JSD"
   ]
  },
  {
   "cell_type": "code",
   "execution_count": 16,
   "id": "floppy-share",
   "metadata": {},
   "outputs": [
    {
     "name": "stderr",
     "output_type": "stream",
     "text": [
      "500it [00:16, 30.96it/s]\n"
     ]
    }
   ],
   "source": [
    "if isFlow:\n",
    "    prob = Calculate_JSD_Flow(net, flowNet, num_samples)\n",
    "    # prob = Calculate_JSD_Flow(net_warmup, flowNet_warmup, num_samples)\n",
    "else:\n",
    "    prob = Calculate_JSD(net, net_2, num_samples)\n",
    "#     prob = Calculate_JSD(net_warmup, net_warmup_2, num_samples)\n",
    "threshold = torch.mean(prob)\n",
    "if threshold.item()>args.d_u:\n",
    "    threshold = threshold - (threshold-torch.min(prob))/arg.tau\n",
    "SR = torch.sum(prob<threshold).item()/num_samples    "
   ]
  },
  {
   "cell_type": "code",
   "execution_count": 17,
   "id": "bound-starter",
   "metadata": {},
   "outputs": [],
   "source": [
    "labeled_trainloader, unlabeled_trainloader = loader.run(SR, 'train', prob = prob) # Uniform Selection\n",
    "\n",
    "labeled_idx = labeled_trainloader.dataset.pred_idx\n",
    "unlabeled_idx = unlabeled_trainloader.dataset.pred_idx\n",
    "class_ind = labeled_trainloader.dataset.class_ind\n",
    "origin_prob =  labeled_trainloader.dataset.origin_prob\n",
    "labeled_prob = [origin_prob[i].numpy() for i in labeled_idx]\n",
    "unlabeled_prob = [origin_prob[i].numpy() for i in unlabeled_idx]\n",
    "sample_ratio = torch.sum(prob<threshold).item()/num_samples"
   ]
  },
  {
   "cell_type": "code",
   "execution_count": 18,
   "id": "daily-mauritius",
   "metadata": {},
   "outputs": [],
   "source": [
    "noise_label = np.load(noise_file)['label']\n",
    "noise_idx = np.load(noise_file)['index']\n",
    "idx       = list(range(50000))\n",
    "clean_idx = [x for x in idx if x not in noise_idx]"
   ]
  },
  {
   "cell_type": "code",
   "execution_count": 19,
   "id": "joined-symphony",
   "metadata": {},
   "outputs": [],
   "source": [
    "## True Positive\n",
    "TP = [x for x in labeled_idx if x in clean_idx]\n",
    "## False Positive\n",
    "FP = [x for x in labeled_idx if x in noise_idx]"
   ]
  },
  {
   "cell_type": "code",
   "execution_count": 20,
   "id": "valued-champagne",
   "metadata": {},
   "outputs": [
    {
     "name": "stdout",
     "output_type": "stream",
     "text": [
      "TP : 24313 FP: 2853\n"
     ]
    }
   ],
   "source": [
    "print(\"TP :\", len(TP), \"FP:\", len(FP))"
   ]
  },
  {
   "cell_type": "code",
   "execution_count": 21,
   "id": "collectible-timing",
   "metadata": {},
   "outputs": [],
   "source": [
    "TP_classes = []\n",
    "NP_classes = []\n",
    "for i in range(0, 10):\n",
    "    TP_classes.append(len([x for x in TP if x in class_ind[i]]))\n",
    "    NP_classes.append(len([x for x in FP if x in class_ind[i]]))"
   ]
  },
  {
   "cell_type": "code",
   "execution_count": 22,
   "id": "nominated-class",
   "metadata": {},
   "outputs": [
    {
     "data": {
      "image/png": "[encoded data removed]",
      "text/plain": [
       "<Figure size 576x432 with 1 Axes>"
      ]
     },
     "metadata": {
      "needs_background": "light"
     },
     "output_type": "display_data"
    }
   ],
   "source": [
    "label = ['0','1','2','3','4','5','6','7','8','9']\n",
    "\n",
    "plt.figure(figsize=(8,6))\n",
    "x = np.arange(len(label))\n",
    "plt.bar(x, NP_classes, color='blue', label='False Postive: noisy label', bottom=TP_classes)\n",
    "plt.bar(x, TP_classes, color='red', label='True Positive: clean label')\n",
    "\n",
    "plt.xticks(x, label)\n",
    "plt.xlabel('class index')\n",
    "plt.ylabel('Number of Selected Clean Labe')\n",
    "plt.legend(loc='upper right')\n",
    "plt.ylim((0,5000))\n",
    "plt.show()"
   ]
  },
  {
   "cell_type": "code",
   "execution_count": 30,
   "id": "specified-object",
   "metadata": {},
   "outputs": [
    {
     "data": {
      "image/png": "[encoded data removed]",
      "text/plain": [
       "<Figure size 432x288 with 1 Axes>"
      ]
     },
     "metadata": {
      "needs_background": "light"
     },
     "output_type": "display_data"
    }
   ],
   "source": [
    "# the histogram of the data\n",
    "\n",
    "labeled_prob = np.array(labeled_prob)\n",
    "unlabeled_prob = np.array(unlabeled_prob)\n",
    "\n",
    "# label_data = np.sort(labeled_prob)\n",
    "# label_data_y = np.arange(len(label_data))/float(len(label_data))\n",
    "# plt.plot(label_data, label_data_y)\n",
    "\n",
    "\n",
    "# unlabeled_data = np.sort(unlabeled_prob)\n",
    "# unlabeled_data_y = np.arange(len(unlabeled_data))/float(len(unlabeled_data))\n",
    "# plt.plot(unlabeled_data, unlabeled_data_y)\n",
    "\n",
    "kwargs = dict(histtype='stepfilled', alpha=0.75, density=False, bins=10)\n",
    "# plt.hist(np.array(origin_prob), **kwargs)\n",
    "plt.hist(labeled_prob, color = 'r', **kwargs)\n",
    "plt.hist(unlabeled_prob, color = 'g',  **kwargs)\n",
    "\n",
    "\n",
    "plt.xlabel('JSD Values')\n",
    "plt.ylabel('count')\n",
    "plt.title('JSD Distribution of N Samples')\n",
    "plt.xlim(0, 1)\n",
    "# plt.ylim(0, 1)\n",
    "plt.grid(True)\n",
    "plt.show()"
   ]
  },
  {
   "cell_type": "code",
   "execution_count": null,
   "id": "understanding-friendly",
   "metadata": {},
   "outputs": [],
   "source": []
  }
 ],
 "metadata": {
  "kernelspec": {
   "display_name": "Python 3",
   "language": "python",
   "name": "python3"
  },
  "language_info": {
   "codemirror_mode": {
    "name": "ipython",
    "version": 3
   },
   "file_extension": ".py",
   "mimetype": "text/x-python",
   "name": "python",
   "nbconvert_exporter": "python",
   "pygments_lexer": "ipython3",
   "version": "3.7.10"
  }
 },
 "nbformat": 4,
 "nbformat_minor": 5
}
